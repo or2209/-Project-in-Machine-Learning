{
 "cells": [
  {
   "cell_type": "code",
   "execution_count": 1,
   "metadata": {},
   "outputs": [],
   "source": [
    "import warnings\n",
    "warnings.filterwarnings(\"ignore\")\n",
    "\n",
    "import pandas as pd\n",
    "import numpy as np\n",
    "from sklearn.model_selection import train_test_split\n",
    "from sklearn.preprocessing import StandardScaler\n",
    "import seaborn as sns\n",
    "import matplotlib.pyplot as plt\n",
    "from sklearn.neighbors import KNeighborsClassifier\n",
    "from sklearn.svm import SVC\n",
    "from sklearn.linear_model import LogisticRegression\n",
    "import xgboost\n",
    "%matplotlib inline\n",
    "plt.style.use('seaborn')"
   ]
  },
  {
   "cell_type": "code",
   "execution_count": 2,
   "metadata": {
    "code_folding": []
   },
   "outputs": [],
   "source": [
    "#List of metric for classiffication models\n",
    "def metrics_classific(y, predicted, proba_predictions):\n",
    "    from sklearn.metrics import confusion_matrix, classification_report, precision_recall_curve, f1_score, auc\n",
    "    from matplotlib import pyplot\n",
    "    confusion_matrix = confusion_matrix(y, predicted)\n",
    "    print(confusion_matrix)\n",
    "    print(classification_report(y, predicted))\n",
    "    \n",
    "    # keep probabilities for the positive outcome only\n",
    "    lr_probs = proba_predictions[:, 1]\n",
    "    \n",
    "    # calculate precision and recall for each threshold\n",
    "    lr_precision, lr_recall, _ = precision_recall_curve(y, lr_probs)\n",
    "\n",
    "    # calculate scores\n",
    "    lr_f1, lr_auc = f1_score(y, predicted), auc(lr_recall, lr_precision)\n",
    "\n",
    "    # summarize scores\n",
    "    print('Logistic: f1=%.3f auc=%.3f' % (lr_f1, lr_auc))\n",
    "\n",
    "    #plot the precision-recall curves\n",
    "    no_skill = len(y[y == 1]) / len(y)\n",
    "    pyplot.plot([0, 1], [no_skill, no_skill], linestyle='--', label='No Skill')\n",
    "    pyplot.plot(lr_recall, lr_precision, marker='.', label='Logistic')\n",
    "    # axis labels\n",
    "    pyplot.xlabel('Recall')\n",
    "    pyplot.ylabel('Precision')\n",
    "    # show the legend\n",
    "    pyplot.legend()\n",
    "    # show the plot\n",
    "    pyplot.show()"
   ]
  },
  {
   "cell_type": "code",
   "execution_count": 3,
   "metadata": {},
   "outputs": [
    {
     "name": "stderr",
     "output_type": "stream",
     "text": [
      "b'Skipping line 1513591: expected 23 fields, saw 24\\n'\n"
     ]
    },
    {
     "data": {
      "text/plain": [
       "(1923515, 23)"
      ]
     },
     "execution_count": 3,
     "metadata": {},
     "output_type": "execute_result"
    }
   ],
   "source": [
    "df_00 = pd.read_csv('data/Chicago_Crimes_2001_to_2004.csv', error_bad_lines=False)\n",
    "df_00.shape"
   ]
  },
  {
   "cell_type": "code",
   "execution_count": 4,
   "metadata": {},
   "outputs": [
    {
     "data": {
      "text/html": [
       "<div>\n",
       "<style scoped>\n",
       "    .dataframe tbody tr th:only-of-type {\n",
       "        vertical-align: middle;\n",
       "    }\n",
       "\n",
       "    .dataframe tbody tr th {\n",
       "        vertical-align: top;\n",
       "    }\n",
       "\n",
       "    .dataframe thead th {\n",
       "        text-align: right;\n",
       "    }\n",
       "</style>\n",
       "<table border=\"1\" class=\"dataframe\">\n",
       "  <thead>\n",
       "    <tr style=\"text-align: right;\">\n",
       "      <th></th>\n",
       "      <th>Unnamed: 0</th>\n",
       "      <th>ID</th>\n",
       "      <th>Case Number</th>\n",
       "      <th>Date</th>\n",
       "      <th>Block</th>\n",
       "      <th>IUCR</th>\n",
       "      <th>Primary Type</th>\n",
       "      <th>Description</th>\n",
       "      <th>Location Description</th>\n",
       "      <th>Arrest</th>\n",
       "      <th>...</th>\n",
       "      <th>Ward</th>\n",
       "      <th>Community Area</th>\n",
       "      <th>FBI Code</th>\n",
       "      <th>X Coordinate</th>\n",
       "      <th>Y Coordinate</th>\n",
       "      <th>Year</th>\n",
       "      <th>Updated On</th>\n",
       "      <th>Latitude</th>\n",
       "      <th>Longitude</th>\n",
       "      <th>Location</th>\n",
       "    </tr>\n",
       "  </thead>\n",
       "  <tbody>\n",
       "    <tr>\n",
       "      <th>0</th>\n",
       "      <td>879</td>\n",
       "      <td>4786321</td>\n",
       "      <td>HM399414</td>\n",
       "      <td>01/01/2004 12:01:00 AM</td>\n",
       "      <td>082XX S COLES AVE</td>\n",
       "      <td>0840</td>\n",
       "      <td>THEFT</td>\n",
       "      <td>FINANCIAL ID THEFT: OVER $300</td>\n",
       "      <td>RESIDENCE</td>\n",
       "      <td>False</td>\n",
       "      <td>...</td>\n",
       "      <td>7.0</td>\n",
       "      <td>46.0</td>\n",
       "      <td>06</td>\n",
       "      <td>NaN</td>\n",
       "      <td>NaN</td>\n",
       "      <td>2004.0</td>\n",
       "      <td>08/17/2015 03:03:40 PM</td>\n",
       "      <td>NaN</td>\n",
       "      <td>NaN</td>\n",
       "      <td>NaN</td>\n",
       "    </tr>\n",
       "    <tr>\n",
       "      <th>1</th>\n",
       "      <td>2544</td>\n",
       "      <td>4676906</td>\n",
       "      <td>HM278933</td>\n",
       "      <td>03/01/2003 12:00:00 AM</td>\n",
       "      <td>004XX W 42ND PL</td>\n",
       "      <td>2825</td>\n",
       "      <td>OTHER OFFENSE</td>\n",
       "      <td>HARASSMENT BY TELEPHONE</td>\n",
       "      <td>RESIDENCE</td>\n",
       "      <td>False</td>\n",
       "      <td>...</td>\n",
       "      <td>11.0</td>\n",
       "      <td>61.0</td>\n",
       "      <td>26</td>\n",
       "      <td>1173974.0</td>\n",
       "      <td>1876757.0</td>\n",
       "      <td>2003.0</td>\n",
       "      <td>04/15/2016 08:55:02 AM</td>\n",
       "      <td>41.817229</td>\n",
       "      <td>-87.637328</td>\n",
       "      <td>(41.817229156, -87.637328162)</td>\n",
       "    </tr>\n",
       "    <tr>\n",
       "      <th>2</th>\n",
       "      <td>2919</td>\n",
       "      <td>4789749</td>\n",
       "      <td>HM402220</td>\n",
       "      <td>06/20/2004 11:00:00 AM</td>\n",
       "      <td>025XX N KIMBALL AVE</td>\n",
       "      <td>1752</td>\n",
       "      <td>OFFENSE INVOLVING CHILDREN</td>\n",
       "      <td>AGG CRIM SEX ABUSE FAM MEMBER</td>\n",
       "      <td>RESIDENCE</td>\n",
       "      <td>False</td>\n",
       "      <td>...</td>\n",
       "      <td>35.0</td>\n",
       "      <td>22.0</td>\n",
       "      <td>20</td>\n",
       "      <td>NaN</td>\n",
       "      <td>NaN</td>\n",
       "      <td>2004.0</td>\n",
       "      <td>08/17/2015 03:03:40 PM</td>\n",
       "      <td>NaN</td>\n",
       "      <td>NaN</td>\n",
       "      <td>NaN</td>\n",
       "    </tr>\n",
       "    <tr>\n",
       "      <th>3</th>\n",
       "      <td>2927</td>\n",
       "      <td>4789765</td>\n",
       "      <td>HM402058</td>\n",
       "      <td>12/30/2004 08:00:00 PM</td>\n",
       "      <td>045XX W MONTANA ST</td>\n",
       "      <td>0840</td>\n",
       "      <td>THEFT</td>\n",
       "      <td>FINANCIAL ID THEFT: OVER $300</td>\n",
       "      <td>OTHER</td>\n",
       "      <td>False</td>\n",
       "      <td>...</td>\n",
       "      <td>31.0</td>\n",
       "      <td>20.0</td>\n",
       "      <td>06</td>\n",
       "      <td>NaN</td>\n",
       "      <td>NaN</td>\n",
       "      <td>2004.0</td>\n",
       "      <td>08/17/2015 03:03:40 PM</td>\n",
       "      <td>NaN</td>\n",
       "      <td>NaN</td>\n",
       "      <td>NaN</td>\n",
       "    </tr>\n",
       "    <tr>\n",
       "      <th>4</th>\n",
       "      <td>3302</td>\n",
       "      <td>4677901</td>\n",
       "      <td>HM275615</td>\n",
       "      <td>05/01/2003 01:00:00 AM</td>\n",
       "      <td>111XX S NORMAL AVE</td>\n",
       "      <td>0841</td>\n",
       "      <td>THEFT</td>\n",
       "      <td>FINANCIAL ID THEFT:$300 &amp;UNDER</td>\n",
       "      <td>RESIDENCE</td>\n",
       "      <td>False</td>\n",
       "      <td>...</td>\n",
       "      <td>34.0</td>\n",
       "      <td>49.0</td>\n",
       "      <td>06</td>\n",
       "      <td>1174948.0</td>\n",
       "      <td>1831051.0</td>\n",
       "      <td>2003.0</td>\n",
       "      <td>04/15/2016 08:55:02 AM</td>\n",
       "      <td>41.691785</td>\n",
       "      <td>-87.635116</td>\n",
       "      <td>(41.691784636, -87.635115968)</td>\n",
       "    </tr>\n",
       "  </tbody>\n",
       "</table>\n",
       "<p>5 rows × 23 columns</p>\n",
       "</div>"
      ],
      "text/plain": [
       "   Unnamed: 0       ID Case Number                    Date  \\\n",
       "0         879  4786321    HM399414  01/01/2004 12:01:00 AM   \n",
       "1        2544  4676906    HM278933  03/01/2003 12:00:00 AM   \n",
       "2        2919  4789749    HM402220  06/20/2004 11:00:00 AM   \n",
       "3        2927  4789765    HM402058  12/30/2004 08:00:00 PM   \n",
       "4        3302  4677901    HM275615  05/01/2003 01:00:00 AM   \n",
       "\n",
       "                 Block  IUCR                Primary Type  \\\n",
       "0    082XX S COLES AVE  0840                       THEFT   \n",
       "1      004XX W 42ND PL  2825               OTHER OFFENSE   \n",
       "2  025XX N KIMBALL AVE  1752  OFFENSE INVOLVING CHILDREN   \n",
       "3   045XX W MONTANA ST  0840                       THEFT   \n",
       "4   111XX S NORMAL AVE  0841                       THEFT   \n",
       "\n",
       "                      Description Location Description  Arrest  ...  Ward  \\\n",
       "0   FINANCIAL ID THEFT: OVER $300            RESIDENCE   False  ...   7.0   \n",
       "1         HARASSMENT BY TELEPHONE            RESIDENCE   False  ...  11.0   \n",
       "2   AGG CRIM SEX ABUSE FAM MEMBER            RESIDENCE   False  ...  35.0   \n",
       "3   FINANCIAL ID THEFT: OVER $300                OTHER   False  ...  31.0   \n",
       "4  FINANCIAL ID THEFT:$300 &UNDER            RESIDENCE   False  ...  34.0   \n",
       "\n",
       "   Community Area  FBI Code  X Coordinate  Y Coordinate    Year  \\\n",
       "0            46.0        06           NaN           NaN  2004.0   \n",
       "1            61.0        26     1173974.0     1876757.0  2003.0   \n",
       "2            22.0        20           NaN           NaN  2004.0   \n",
       "3            20.0        06           NaN           NaN  2004.0   \n",
       "4            49.0        06     1174948.0     1831051.0  2003.0   \n",
       "\n",
       "               Updated On   Latitude  Longitude                       Location  \n",
       "0  08/17/2015 03:03:40 PM        NaN        NaN                            NaN  \n",
       "1  04/15/2016 08:55:02 AM  41.817229 -87.637328  (41.817229156, -87.637328162)  \n",
       "2  08/17/2015 03:03:40 PM        NaN        NaN                            NaN  \n",
       "3  08/17/2015 03:03:40 PM        NaN        NaN                            NaN  \n",
       "4  04/15/2016 08:55:02 AM  41.691785 -87.635116  (41.691784636, -87.635115968)  \n",
       "\n",
       "[5 rows x 23 columns]"
      ]
     },
     "execution_count": 4,
     "metadata": {},
     "output_type": "execute_result"
    }
   ],
   "source": [
    "df_00.head()"
   ]
  },
  {
   "cell_type": "code",
   "execution_count": null,
   "metadata": {},
   "outputs": [],
   "source": []
  },
  {
   "cell_type": "code",
   "execution_count": 5,
   "metadata": {},
   "outputs": [],
   "source": [
    "columns_to_drop = ['Unnamed: 0', 'Case Number', 'IUCR','Updated On','Year', 'FBI Code', 'Beat','Ward','Community Area', 'Location','Block']"
   ]
  },
  {
   "cell_type": "code",
   "execution_count": 6,
   "metadata": {},
   "outputs": [
    {
     "data": {
      "text/plain": [
       "(1892808, 12)"
      ]
     },
     "execution_count": 6,
     "metadata": {},
     "output_type": "execute_result"
    }
   ],
   "source": [
    "df_01 = df_00.drop(columns_to_drop, axis=1).dropna()\n",
    "df_01.shape"
   ]
  },
  {
   "cell_type": "code",
   "execution_count": 7,
   "metadata": {},
   "outputs": [],
   "source": [
    "# convert dates to pandas datetime format\n",
    "df_01.Date = pd.to_datetime(df_01.Date, format='%m/%d/%Y %I:%M:%S %p')"
   ]
  },
  {
   "cell_type": "code",
   "execution_count": 8,
   "metadata": {},
   "outputs": [],
   "source": [
    "df_01['le_hour']= pd.to_datetime(df_01['Date']).dt.hour\n",
    "df_01['Year']= pd.to_datetime(df_01['Date']).dt.year\n",
    "def binary_hour(hour):\n",
    "    if hour>=18 or hour<6:\n",
    "        return 0\n",
    "    else:\n",
    "        return 1\n",
    "\n",
    "df_01['le_binary_hour'] = df_01['le_hour'].apply(binary_hour)"
   ]
  },
  {
   "cell_type": "code",
   "execution_count": 9,
   "metadata": {},
   "outputs": [
    {
     "data": {
      "text/plain": [
       "2001    565181\n",
       "2002    471550\n",
       "2003    471183\n",
       "2004    384894\n",
       "Name: Year, dtype: int64"
      ]
     },
     "execution_count": 9,
     "metadata": {},
     "output_type": "execute_result"
    }
   ],
   "source": [
    "df_01['Year'].value_counts()"
   ]
  },
  {
   "cell_type": "code",
   "execution_count": 10,
   "metadata": {},
   "outputs": [],
   "source": [
    "df_01 = df_01[df_01['Year'] == 2003]"
   ]
  },
  {
   "cell_type": "code",
   "execution_count": 11,
   "metadata": {},
   "outputs": [
    {
     "data": {
      "text/plain": [
       "2003    471183\n",
       "Name: Year, dtype: int64"
      ]
     },
     "execution_count": 11,
     "metadata": {},
     "output_type": "execute_result"
    }
   ],
   "source": [
    "df_01['Year'].value_counts()"
   ]
  },
  {
   "cell_type": "code",
   "execution_count": 12,
   "metadata": {},
   "outputs": [],
   "source": [
    "df_01[['Y Coordinate','Latitude']] = df_01[['Y Coordinate','Latitude']].apply(pd.to_numeric)\n",
    "df_01.loc[df_01['Primary Type'] == 'CRIM SEXUAL ASSAULT' , df_01.columns=='Primary Type'] = 'OTHER OFFENSE'\n",
    "df_01.loc[df_01['Primary Type'] == 'SEX OFFENSE' , df_01.columns=='Primary Type'] = 'OTHER OFFENSE'"
   ]
  },
  {
   "cell_type": "code",
   "execution_count": 13,
   "metadata": {},
   "outputs": [
    {
     "data": {
      "text/plain": [
       "THEFT                  97537\n",
       "BATTERY                87754\n",
       "CRIMINAL DAMAGE        54657\n",
       "NARCOTICS              53687\n",
       "OTHER OFFENSE          34322\n",
       "ASSAULT                29245\n",
       "BURGLARY               24993\n",
       "MOTOR VEHICLE THEFT    22652\n",
       "Name: Primary Type, dtype: int64"
      ]
     },
     "execution_count": 13,
     "metadata": {},
     "output_type": "execute_result"
    }
   ],
   "source": [
    "df_01['Primary Type'].value_counts()[:8]"
   ]
  },
  {
   "cell_type": "code",
   "execution_count": 14,
   "metadata": {
    "scrolled": true
   },
   "outputs": [
    {
     "data": {
      "text/plain": [
       "STREET       144580\n",
       "RESIDENCE     80273\n",
       "APARTMENT     39202\n",
       "SIDEWALK      37379\n",
       "OTHER         17745\n",
       "Name: Location Description, dtype: int64"
      ]
     },
     "execution_count": 14,
     "metadata": {},
     "output_type": "execute_result"
    }
   ],
   "source": [
    "df_01['Location Description'].value_counts()[:5]"
   ]
  },
  {
   "cell_type": "code",
   "execution_count": 15,
   "metadata": {},
   "outputs": [],
   "source": [
    "loc_to_change  = list(df_01['Location Description'].value_counts()[5:].index)\n",
    "\n",
    "type_to_change = list(df_01['Primary Type'].value_counts()[8:].index)\n",
    "\n",
    "df_01.loc[df_01['Location Description'].isin(loc_to_change) , df_01.columns=='Location Description'] = 'OTHER'\n",
    "\n",
    "df_01.loc[df_01['Primary Type'].isin(type_to_change) , df_01.columns=='Primary Type'] = 'OTHER'"
   ]
  },
  {
   "cell_type": "code",
   "execution_count": 16,
   "metadata": {},
   "outputs": [
    {
     "data": {
      "text/plain": [
       "THEFT                  97537\n",
       "BATTERY                87754\n",
       "OTHER                  66336\n",
       "CRIMINAL DAMAGE        54657\n",
       "NARCOTICS              53687\n",
       "OTHER OFFENSE          34322\n",
       "ASSAULT                29245\n",
       "BURGLARY               24993\n",
       "MOTOR VEHICLE THEFT    22652\n",
       "Name: Primary Type, dtype: int64"
      ]
     },
     "execution_count": 16,
     "metadata": {},
     "output_type": "execute_result"
    }
   ],
   "source": [
    "df_01['Primary Type'].value_counts()"
   ]
  },
  {
   "cell_type": "code",
   "execution_count": 17,
   "metadata": {},
   "outputs": [
    {
     "data": {
      "text/plain": [
       "OTHER        169749\n",
       "STREET       144580\n",
       "RESIDENCE     80273\n",
       "APARTMENT     39202\n",
       "SIDEWALK      37379\n",
       "Name: Location Description, dtype: int64"
      ]
     },
     "execution_count": 17,
     "metadata": {},
     "output_type": "execute_result"
    }
   ],
   "source": [
    "df_01['Location Description'].value_counts()"
   ]
  },
  {
   "cell_type": "code",
   "execution_count": 18,
   "metadata": {},
   "outputs": [
    {
     "data": {
      "text/plain": [
       "0    235944\n",
       "1    235239\n",
       "Name: le_binary_hour, dtype: int64"
      ]
     },
     "execution_count": 18,
     "metadata": {},
     "output_type": "execute_result"
    }
   ],
   "source": [
    "df_01.le_binary_hour.value_counts()"
   ]
  },
  {
   "cell_type": "code",
   "execution_count": 19,
   "metadata": {},
   "outputs": [
    {
     "data": {
      "text/plain": [
       "False    330882\n",
       "True     140301\n",
       "Name: Arrest, dtype: int64"
      ]
     },
     "execution_count": 19,
     "metadata": {},
     "output_type": "execute_result"
    }
   ],
   "source": [
    "df_01.Arrest.value_counts()"
   ]
  },
  {
   "cell_type": "code",
   "execution_count": 20,
   "metadata": {},
   "outputs": [],
   "source": [
    "categoric_column_list = ['Primary Type','Location Description']"
   ]
  },
  {
   "cell_type": "code",
   "execution_count": 21,
   "metadata": {},
   "outputs": [],
   "source": [
    "from sklearn.preprocessing import LabelEncoder\n",
    "df_label =df_01.copy()\n",
    "df_label[categoric_column_list] = df_label[categoric_column_list].apply(LabelEncoder().fit_transform)"
   ]
  },
  {
   "cell_type": "code",
   "execution_count": 22,
   "metadata": {},
   "outputs": [
    {
     "name": "stdout",
     "output_type": "stream",
     "text": [
      "<class 'pandas.core.frame.DataFrame'>\n",
      "Int64Index: 471183 entries, 1 to 1923511\n",
      "Data columns (total 15 columns):\n",
      " #   Column                Non-Null Count   Dtype         \n",
      "---  ------                --------------   -----         \n",
      " 0   ID                    471183 non-null  int64         \n",
      " 1   Date                  471183 non-null  datetime64[ns]\n",
      " 2   Primary Type          471183 non-null  int32         \n",
      " 3   Description           471183 non-null  object        \n",
      " 4   Location Description  471183 non-null  int32         \n",
      " 5   Arrest                471183 non-null  bool          \n",
      " 6   Domestic              471183 non-null  bool          \n",
      " 7   District              471183 non-null  float64       \n",
      " 8   X Coordinate          471183 non-null  float64       \n",
      " 9   Y Coordinate          471183 non-null  float64       \n",
      " 10  Latitude              471183 non-null  float64       \n",
      " 11  Longitude             471183 non-null  float64       \n",
      " 12  le_hour               471183 non-null  int64         \n",
      " 13  Year                  471183 non-null  int64         \n",
      " 14  le_binary_hour        471183 non-null  int64         \n",
      "dtypes: bool(2), datetime64[ns](1), float64(5), int32(2), int64(4), object(1)\n",
      "memory usage: 47.6+ MB\n"
     ]
    }
   ],
   "source": [
    "df_label.info()"
   ]
  },
  {
   "cell_type": "code",
   "execution_count": 23,
   "metadata": {},
   "outputs": [
    {
     "data": {
      "text/plain": [
       "['Primary Type', 'Location Description']"
      ]
     },
     "execution_count": 23,
     "metadata": {},
     "output_type": "execute_result"
    }
   ],
   "source": [
    "categoric_column_list"
   ]
  },
  {
   "cell_type": "code",
   "execution_count": 24,
   "metadata": {},
   "outputs": [
    {
     "data": {
      "text/plain": [
       "(471183, 25)"
      ]
     },
     "execution_count": 24,
     "metadata": {},
     "output_type": "execute_result"
    }
   ],
   "source": [
    "df_on_hot = pd.get_dummies(df_01, columns = categoric_column_list,sparse=True, drop_first=True)\n",
    "df_on_hot.shape"
   ]
  },
  {
   "cell_type": "code",
   "execution_count": null,
   "metadata": {},
   "outputs": [],
   "source": []
  },
  {
   "cell_type": "markdown",
   "metadata": {},
   "source": [
    "# Time"
   ]
  },
  {
   "cell_type": "markdown",
   "metadata": {},
   "source": [
    "<b>Xgboost</b>"
   ]
  },
  {
   "cell_type": "code",
   "execution_count": 28,
   "metadata": {},
   "outputs": [
    {
     "data": {
      "text/plain": [
       "Index(['ID', 'Date', 'Primary Type', 'Description', 'Location Description',\n",
       "       'Arrest', 'Domestic', 'District', 'X Coordinate', 'Y Coordinate',\n",
       "       'Latitude', 'Longitude', 'le_hour', 'Year', 'le_binary_hour'],\n",
       "      dtype='object')"
      ]
     },
     "execution_count": 28,
     "metadata": {},
     "output_type": "execute_result"
    }
   ],
   "source": [
    "df_01.columns"
   ]
  },
  {
   "cell_type": "raw",
   "metadata": {},
   "source": [
    "train_columns = ['Block', 'Primary Type', 'Description',\n",
    "       'Location Description','Domestic', 'District',\n",
    "       'X Coordinate', 'Y Coordinate', 'Latitude', 'Longitude', \n",
    "       'le_binary_hour']"
   ]
  },
  {
   "cell_type": "code",
   "execution_count": 30,
   "metadata": {},
   "outputs": [],
   "source": [
    "y = df_label['le_binary_hour']\n",
    "X = df_label[['Primary Type', \n",
    "       'Location Description','Domestic', 'District',\n",
    "       'X Coordinate', 'Y Coordinate', 'Latitude', 'Longitude','Arrest']]"
   ]
  },
  {
   "cell_type": "code",
   "execution_count": 40,
   "metadata": {},
   "outputs": [],
   "source": [
    "X_train, X_test, y_train, y_test = train_test_split(X, y, test_size=0.5, random_state=42)"
   ]
  },
  {
   "cell_type": "code",
   "execution_count": 41,
   "metadata": {},
   "outputs": [
    {
     "data": {
      "text/plain": [
       "((235591, 9), (235592, 9))"
      ]
     },
     "execution_count": 41,
     "metadata": {},
     "output_type": "execute_result"
    }
   ],
   "source": [
    "X_train.shape, X_test.shape,"
   ]
  },
  {
   "cell_type": "code",
   "execution_count": 42,
   "metadata": {},
   "outputs": [
    {
     "data": {
      "text/plain": [
       "1.0029969520360145"
      ]
     },
     "execution_count": 42,
     "metadata": {},
     "output_type": "execute_result"
    }
   ],
   "source": [
    "# scale_pos_weight\n",
    "weights = y.value_counts()[0]/y.value_counts()[1]\n",
    "weights "
   ]
  },
  {
   "cell_type": "code",
   "execution_count": 43,
   "metadata": {},
   "outputs": [],
   "source": [
    "xgb = xgboost.XGBClassifier(scale_pos_weight=weights, n_estimators=3_000, tree_method='gpu_hist', predictor='gpu_predictor')"
   ]
  },
  {
   "cell_type": "code",
   "execution_count": 44,
   "metadata": {},
   "outputs": [
    {
     "name": "stdout",
     "output_type": "stream",
     "text": [
      "Wall time: 1min 10s\n"
     ]
    },
    {
     "data": {
      "text/plain": [
       "0    118240\n",
       "1    117352\n",
       "Name: le_binary_hour, dtype: int64"
      ]
     },
     "execution_count": 44,
     "metadata": {},
     "output_type": "execute_result"
    }
   ],
   "source": [
    "%%time\n",
    "model = xgb\n",
    "model.fit(X_train,y_train)\n",
    "y_test.value_counts()"
   ]
  },
  {
   "cell_type": "code",
   "execution_count": 45,
   "metadata": {},
   "outputs": [
    {
     "name": "stdout",
     "output_type": "stream",
     "text": [
      "[[70799 47441]\n",
      " [49228 68124]]\n",
      "              precision    recall  f1-score   support\n",
      "\n",
      "           0       0.59      0.60      0.59    118240\n",
      "           1       0.59      0.58      0.58    117352\n",
      "\n",
      "    accuracy                           0.59    235592\n",
      "   macro avg       0.59      0.59      0.59    235592\n",
      "weighted avg       0.59      0.59      0.59    235592\n",
      "\n",
      "Logistic: f1=0.585 auc=0.628\n"
     ]
    },
    {
     "data": {
      "image/png": "[encoded data removed]",
      "text/plain": [
       "<Figure size 576x396 with 1 Axes>"
      ]
     },
     "metadata": {},
     "output_type": "display_data"
    }
   ],
   "source": [
    "proba_predictions = model.predict_proba(X_test)\n",
    "predictions = model.predict(X_test)\n",
    "metrics_classific(y_test, predictions, proba_predictions)"
   ]
  },
  {
   "cell_type": "markdown",
   "metadata": {},
   "source": [
    "https://scikit-learn.org/stable/auto_examples/model_selection/plot_precision_recall.html#sphx-glr-auto-examples-model-selection-plot-precision-recall-py"
   ]
  },
  {
   "cell_type": "code",
   "execution_count": null,
   "metadata": {},
   "outputs": [],
   "source": []
  },
  {
   "cell_type": "markdown",
   "metadata": {},
   "source": [
    "<b>linear models: KNN, Logist, SVM</b> "
   ]
  },
  {
   "cell_type": "code",
   "execution_count": 25,
   "metadata": {},
   "outputs": [
    {
     "data": {
      "text/plain": [
       "Index(['ID', 'Date', 'Primary Type', 'Description', 'Location Description',\n",
       "       'Arrest', 'Domestic', 'District', 'X Coordinate', 'Y Coordinate',\n",
       "       'Latitude', 'Longitude', 'le_hour', 'Year', 'le_binary_hour'],\n",
       "      dtype='object')"
      ]
     },
     "execution_count": 25,
     "metadata": {},
     "output_type": "execute_result"
    }
   ],
   "source": [
    "df_01.columns"
   ]
  },
  {
   "cell_type": "code",
   "execution_count": 26,
   "metadata": {},
   "outputs": [
    {
     "data": {
      "text/plain": [
       "((471183, 19), (471183,))"
      ]
     },
     "execution_count": 26,
     "metadata": {},
     "output_type": "execute_result"
    }
   ],
   "source": [
    "y = df_on_hot['le_binary_hour']\n",
    "X = df_on_hot.drop(['ID', 'Date','le_hour','Description','Year','le_binary_hour'],axis=1)\n",
    "X.shape, y.shape"
   ]
  },
  {
   "cell_type": "code",
   "execution_count": 27,
   "metadata": {},
   "outputs": [
    {
     "data": {
      "text/plain": [
       "['Primary Type', 'Location Description']"
      ]
     },
     "execution_count": 27,
     "metadata": {},
     "output_type": "execute_result"
    }
   ],
   "source": [
    "categoric_column_list"
   ]
  },
  {
   "cell_type": "code",
   "execution_count": 28,
   "metadata": {},
   "outputs": [],
   "source": [
    "columns_to_scale =['X Coordinate',\n",
    " 'Y Coordinate',\n",
    " 'Latitude',\n",
    " 'Longitude']"
   ]
  },
  {
   "cell_type": "code",
   "execution_count": 29,
   "metadata": {},
   "outputs": [],
   "source": [
    "X_scaled = X.copy()\n",
    "X_scaled[columns_to_scale] = StandardScaler().fit_transform(X[columns_to_scale].values)"
   ]
  },
  {
   "cell_type": "code",
   "execution_count": 30,
   "metadata": {},
   "outputs": [
    {
     "data": {
      "text/plain": [
       "((141354, 19), (329829, 19))"
      ]
     },
     "execution_count": 30,
     "metadata": {},
     "output_type": "execute_result"
    }
   ],
   "source": [
    "X_train, X_test, y_train, y_test = train_test_split(X_scaled, y, test_size=0.7, random_state=42)\n",
    "X_train.shape, X_test.shape"
   ]
  },
  {
   "cell_type": "code",
   "execution_count": 31,
   "metadata": {},
   "outputs": [
    {
     "name": "stdout",
     "output_type": "stream",
     "text": [
      "[[93793 71614]\n",
      " [69620 94802]]\n",
      "              precision    recall  f1-score   support\n",
      "\n",
      "           0       0.57      0.57      0.57    165407\n",
      "           1       0.57      0.58      0.57    164422\n",
      "\n",
      "    accuracy                           0.57    329829\n",
      "   macro avg       0.57      0.57      0.57    329829\n",
      "weighted avg       0.57      0.57      0.57    329829\n",
      "\n",
      "Logistic: f1=0.573 auc=0.588\n"
     ]
    },
    {
     "data": {
      "image/png": "[encoded data removed]",
      "text/plain": [
       "<Figure size 576x396 with 1 Axes>"
      ]
     },
     "metadata": {},
     "output_type": "display_data"
    },
    {
     "name": "stdout",
     "output_type": "stream",
     "text": [
      "Wall time: 3.31 s\n"
     ]
    }
   ],
   "source": [
    "%%time\n",
    "logistic_model = LogisticRegression(class_weight='balanced').fit(X_train,y_train)\n",
    "proba_predictions = logistic_model.predict_proba(X_test)\n",
    "predictions = logistic_model.predict(X_test)\n",
    "metrics_classific(y_test, predictions, proba_predictions)"
   ]
  },
  {
   "cell_type": "code",
   "execution_count": 32,
   "metadata": {},
   "outputs": [
    {
     "data": {
      "text/plain": [
       "array([[0.55551153, 0.44448847],\n",
       "       [0.5211803 , 0.4788197 ],\n",
       "       [0.53975448, 0.46024552],\n",
       "       ...,\n",
       "       [0.44430882, 0.55569118],\n",
       "       [0.37125614, 0.62874386],\n",
       "       [0.53707144, 0.46292856]])"
      ]
     },
     "execution_count": 32,
     "metadata": {},
     "output_type": "execute_result"
    }
   ],
   "source": [
    "proba_predictions"
   ]
  },
  {
   "cell_type": "code",
   "execution_count": 33,
   "metadata": {},
   "outputs": [
    {
     "data": {
      "text/plain": [
       "array([0, 0, 0, ..., 1, 1, 0], dtype=int64)"
      ]
     },
     "execution_count": 33,
     "metadata": {},
     "output_type": "execute_result"
    }
   ],
   "source": [
    "predictions"
   ]
  },
  {
   "cell_type": "code",
   "execution_count": 37,
   "metadata": {},
   "outputs": [
    {
     "data": {
      "text/plain": [
       "((23559, 19), (447624, 19))"
      ]
     },
     "execution_count": 37,
     "metadata": {},
     "output_type": "execute_result"
    }
   ],
   "source": [
    "X_train, X_test, y_train, y_test = train_test_split(X_scaled, y, test_size=0.95, random_state=42)\n",
    "X_train.shape, X_test.shape"
   ]
  },
  {
   "cell_type": "code",
   "execution_count": 38,
   "metadata": {},
   "outputs": [
    {
     "name": "stdout",
     "output_type": "stream",
     "text": [
      "[[117868 106462]\n",
      " [ 91383 131911]]\n",
      "              precision    recall  f1-score   support\n",
      "\n",
      "           0       0.56      0.53      0.54    224330\n",
      "           1       0.55      0.59      0.57    223294\n",
      "\n",
      "    accuracy                           0.56    447624\n",
      "   macro avg       0.56      0.56      0.56    447624\n",
      "weighted avg       0.56      0.56      0.56    447624\n",
      "\n",
      "Wall time: 39min 32s\n"
     ]
    }
   ],
   "source": [
    "%%time\n",
    "SVC_model = SVC(kernel=\"rbf\",class_weight='balanced',C = 3).fit(X_train,y_train)\n",
    "\n",
    "# proba_predictions = SVC_model.predict_proba(X_test)\n",
    "predictions = SVC_model.predict(X_test)\n",
    "\n",
    "from sklearn.metrics import confusion_matrix, classification_report, precision_recall_curve, f1_score, auc\n",
    "from matplotlib import pyplot\n",
    "print(confusion_matrix(y_test, predictions))\n",
    "print(classification_report(y_test, predictions))"
   ]
  },
  {
   "cell_type": "code",
   "execution_count": 34,
   "metadata": {},
   "outputs": [
    {
     "name": "stdout",
     "output_type": "stream",
     "text": [
      "[[119497  45910]\n",
      " [ 97983  66439]]\n",
      "              precision    recall  f1-score   support\n",
      "\n",
      "           0       0.55      0.72      0.62    165407\n",
      "           1       0.59      0.40      0.48    164422\n",
      "\n",
      "    accuracy                           0.56    329829\n",
      "   macro avg       0.57      0.56      0.55    329829\n",
      "weighted avg       0.57      0.56      0.55    329829\n",
      "\n",
      "Logistic: f1=0.480 auc=0.610\n"
     ]
    },
    {
     "data": {
      "image/png": "[encoded data removed]",
      "text/plain": [
       "<Figure size 576x396 with 1 Axes>"
      ]
     },
     "metadata": {},
     "output_type": "display_data"
    },
    {
     "name": "stdout",
     "output_type": "stream",
     "text": [
      "Wall time: 1h 7min 22s\n"
     ]
    }
   ],
   "source": [
    "%%time\n",
    "knn_model = KNeighborsClassifier(n_neighbors=4).fit(X_train,y_train)\n",
    "proba_predictions = knn_model.predict_proba(X_test)\n",
    "predictions = knn_model.predict(X_test)\n",
    "metrics_classific(y_test, predictions, proba_predictions)"
   ]
  },
  {
   "cell_type": "code",
   "execution_count": null,
   "metadata": {},
   "outputs": [],
   "source": []
  }
 ],
 "metadata": {
  "kernelspec": {
   "display_name": "Python 3",
   "language": "python",
   "name": "python3"
  },
  "language_info": {
   "codemirror_mode": {
    "name": "ipython",
    "version": 3
   },
   "file_extension": ".py",
   "mimetype": "text/x-python",
   "name": "python",
   "nbconvert_exporter": "python",
   "pygments_lexer": "ipython3",
   "version": "3.8.8"
  },
  "toc": {
   "base_numbering": 1,
   "nav_menu": {},
   "number_sections": true,
   "sideBar": true,
   "skip_h1_title": false,
   "title_cell": "Table of Contents",
   "title_sidebar": "Contents",
   "toc_cell": false,
   "toc_position": {},
   "toc_section_display": true,
   "toc_window_display": false
  }
 },
 "nbformat": 4,
 "nbformat_minor": 4
}
